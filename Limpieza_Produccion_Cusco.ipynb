{
  "nbformat": 4,
  "nbformat_minor": 0,
  "metadata": {
    "colab": {
      "provenance": []
    },
    "kernelspec": {
      "name": "python3",
      "display_name": "Python 3"
    },
    "language_info": {
      "name": "python"
    }
  },
  "cells": [
    {
      "cell_type": "markdown",
      "source": [
        "# LIMPIEZA DE DATOS:"
      ],
      "metadata": {
        "id": "nRXb_dO7aM3y"
      }
    },
    {
      "cell_type": "code",
      "source": [
        "#VERIFICAR TIPO DE CODIFICACION, en caso no sea UTF-8\n",
        "import chardet\n",
        "\n",
        "with open('Produccion_Agricola_Region_Cusco_2018-2020.csv', 'rb') as f:\n",
        "    result = chardet.detect(f.read(100000))  # Lee una parte del archivo\n",
        "print(result['encoding'])"
      ],
      "metadata": {
        "colab": {
          "base_uri": "https://localhost:8080/"
        },
        "id": "5Qn-walxUhcc",
        "outputId": "5de93ad0-387e-4095-aa8e-9dc19a43b559"
      },
      "execution_count": null,
      "outputs": [
        {
          "output_type": "stream",
          "name": "stdout",
          "text": [
            "ISO-8859-1\n"
          ]
        }
      ]
    },
    {
      "cell_type": "code",
      "execution_count": null,
      "metadata": {
        "colab": {
          "base_uri": "https://localhost:8080/"
        },
        "id": "NqNQs4fIQQ2E",
        "outputId": "af1490dc-927d-4cdf-83f3-1bfc491c54f7"
      },
      "outputs": [
        {
          "output_type": "stream",
          "name": "stdout",
          "text": [
            "  DEPARTAMENTO PROVINCIA   DISTRITO  UBIGEO  PERIODO_AGRICOLA  \\\n",
            "0        CUSCO      ANTA  ANCAHUASI   80302              2020   \n",
            "1        CUSCO      ANTA  ANCAHUASI   80302              2020   \n",
            "2        CUSCO      ANTA  ANCAHUASI   80302              2020   \n",
            "3        CUSCO      ANTA  ANCAHUASI   80302              2020   \n",
            "4        CUSCO      ANTA  ANCAHUASI   80302              2020   \n",
            "\n",
            "              CULTIVO  SUPERFICIE_VERDE  SIEMBRA  COSECHA  RENDIMIENTO  \\\n",
            "0             ALFALFA        190.470588    147.0    147.0    81972.789   \n",
            "1   ARVEJA GRANO SECO         20.700000     23.0     23.0     2000.000   \n",
            "2  ARVEJA GRANO VERDE         29.636364     40.0     31.0     6000.000   \n",
            "3         AVENA GRANO         85.222222     98.0     98.0     2000.000   \n",
            "4   CEBADA  FORRAJERA          8.117647     35.0     32.0    19875.000   \n",
            "\n",
            "   PRODUCCION  PRECIO_CHACRA  SUPERFICIE_PERDIDA  VALOR_PRODUCCION  \\\n",
            "0     12050.0          0.190                 NaN          2289.500   \n",
            "1        46.0          2.500                 NaN           115.000   \n",
            "2       186.0          1.790                 NaN           332.940   \n",
            "3       196.0          1.745                 NaN           342.020   \n",
            "4       636.0          0.182                 NaN           115.752   \n",
            "\n",
            "   FECHA_CORTE  \n",
            "0     20230810  \n",
            "1     20230810  \n",
            "2     20230810  \n",
            "3     20230810  \n",
            "4     20230810  \n"
          ]
        }
      ],
      "source": [
        "#IMPORTAMOS LOS DATOS\n",
        "import pandas as pd\n",
        "#importar el csv\n",
        "df_produccion = pd.read_csv('Produccion_Agricola_Region_Cusco_2018-2020.csv', sep= ';', encoding='ISO-8859-1')\n",
        "print(df_produccion.head())"
      ]
    },
    {
      "cell_type": "code",
      "source": [
        "#información del dataset\n",
        "print(df_produccion.info())"
      ],
      "metadata": {
        "colab": {
          "base_uri": "https://localhost:8080/"
        },
        "id": "iHVC26I0YX-n",
        "outputId": "c4c0bf05-2611-4f75-aee2-2507eee846aa"
      },
      "execution_count": null,
      "outputs": [
        {
          "output_type": "stream",
          "name": "stdout",
          "text": [
            "<class 'pandas.core.frame.DataFrame'>\n",
            "RangeIndex: 4869 entries, 0 to 4868\n",
            "Data columns (total 15 columns):\n",
            " #   Column              Non-Null Count  Dtype  \n",
            "---  ------              --------------  -----  \n",
            " 0   DEPARTAMENTO        4869 non-null   object \n",
            " 1   PROVINCIA           4869 non-null   object \n",
            " 2   DISTRITO            4869 non-null   object \n",
            " 3   UBIGEO              4869 non-null   int64  \n",
            " 4   PERIODO_AGRICOLA    4869 non-null   int64  \n",
            " 5   CULTIVO             4869 non-null   object \n",
            " 6   SUPERFICIE_VERDE    4855 non-null   float64\n",
            " 7   SIEMBRA             3975 non-null   float64\n",
            " 8   COSECHA             4558 non-null   float64\n",
            " 9   RENDIMIENTO         4555 non-null   float64\n",
            " 10  PRODUCCION          4698 non-null   float64\n",
            " 11  PRECIO_CHACRA       4698 non-null   float64\n",
            " 12  SUPERFICIE_PERDIDA  93 non-null     float64\n",
            " 13  VALOR_PRODUCCION    4869 non-null   float64\n",
            " 14  FECHA_CORTE         4869 non-null   int64  \n",
            "dtypes: float64(8), int64(3), object(4)\n",
            "memory usage: 570.7+ KB\n",
            "None\n"
          ]
        }
      ]
    },
    {
      "cell_type": "code",
      "source": [
        "# Contar columnas completamente vacías\n",
        "columnas_vacias = df_produccion.isnull().all()  # Devuelve True para columnas completamente vacías\n",
        "cantidad_columnas_vacias = columnas_vacias.sum()\n",
        "\n",
        "print(f\"Número de columnas completamente vacías: {cantidad_columnas_vacias}\")"
      ],
      "metadata": {
        "colab": {
          "base_uri": "https://localhost:8080/"
        },
        "id": "7fNJuT1CV5CP",
        "outputId": "d9151d59-f386-42f1-ad74-1c4b80aaa872"
      },
      "execution_count": null,
      "outputs": [
        {
          "output_type": "stream",
          "name": "stdout",
          "text": [
            "Número de columnas completamente vacías: 0\n"
          ]
        }
      ]
    },
    {
      "cell_type": "code",
      "source": [
        "print(df_produccion.isnull().sum()) #muestra la cantidad de valores nulos por columna\n"
      ],
      "metadata": {
        "colab": {
          "base_uri": "https://localhost:8080/"
        },
        "id": "mN5dx30tWx1A",
        "outputId": "54896106-3019-451e-cada-9a2ed28201ca"
      },
      "execution_count": null,
      "outputs": [
        {
          "output_type": "stream",
          "name": "stdout",
          "text": [
            "DEPARTAMENTO             0\n",
            "PROVINCIA                0\n",
            "DISTRITO                 0\n",
            "UBIGEO                   0\n",
            "PERIODO_AGRICOLA         0\n",
            "CULTIVO                  0\n",
            "SUPERFICIE_VERDE        14\n",
            "SIEMBRA                894\n",
            "COSECHA                311\n",
            "RENDIMIENTO            314\n",
            "PRODUCCION             171\n",
            "PRECIO_CHACRA          171\n",
            "SUPERFICIE_PERDIDA    4776\n",
            "VALOR_PRODUCCION         0\n",
            "FECHA_CORTE              0\n",
            "dtype: int64\n"
          ]
        }
      ]
    },
    {
      "cell_type": "code",
      "source": [
        "print(f\"Cantidad de valores únicos en CULTIVO:\", df_produccion['CULTIVO'].nunique())\n",
        "print(df_produccion['CULTIVO'].value_counts())"
      ],
      "metadata": {
        "colab": {
          "base_uri": "https://localhost:8080/"
        },
        "id": "cBejkQmuE_mB",
        "outputId": "7171209d-1c14-48bd-c6e4-2c4c59fb7b84"
      },
      "execution_count": null,
      "outputs": [
        {
          "output_type": "stream",
          "name": "stdout",
          "text": [
            "Cantidad de valores únicos en CULTIVO: 73\n",
            "CULTIVO\n",
            "PAPA (agrupa mejoradas y nativas)    277\n",
            "MAIZ AMILACEO                        255\n",
            "QUINUA                               247\n",
            "HABA GRANO SECO                      233\n",
            "ALFALFA                              231\n",
            "                                    ... \n",
            "TE                                     3\n",
            "NUNA GRANO SECO                        2\n",
            "SANDIA                                 2\n",
            "LINAZA                                 1\n",
            "MARANON                                1\n",
            "Name: count, Length: 73, dtype: int64\n"
          ]
        }
      ]
    },
    {
      "cell_type": "code",
      "source": [],
      "metadata": {
        "id": "SHX31utCGvrJ"
      },
      "execution_count": null,
      "outputs": []
    },
    {
      "cell_type": "markdown",
      "source": [
        " **Análisis de valores nulos**\n",
        "\n",
        "**Columnas con pocos valores nulos:**\n",
        "\n",
        "**SUPERFICIE_VERDE** (14 nulos → 0.29% del total): Se pueden eliminar las filas.\n",
        "\n",
        "**PRODUCCION y PRECIO_CHACRA**(171 nulos → 3.5% del total): se puede eliminar las filas.\n",
        "\n",
        "**COSECHA y RENDIMIENTO** (311-314 nulos → 6.4% del total): Podrían imputarse.\n",
        "\n",
        "**Columnas con una cantidad considerable de nulos**:\n",
        "\n",
        "**SIEMBRA** (894 nulos → 18.4% del total): Es alto, pero no extremo. Posible imputación basada en patrones.\n",
        "\n",
        "**SUPERFICIE_PERDIDA** (4776 nulos → 98.1% del total): Prácticamente vacía. Podría eliminarse toda la columna si no es útil."
      ],
      "metadata": {
        "id": "RMgynxTpHWcM"
      }
    },
    {
      "cell_type": "code",
      "source": [
        "#ELIMINADO COLUMNA SUPERFICIE PERDIDA, para no perder el 98.1%\n",
        "df_limpiov1 = df_produccion.drop(\"SUPERFICIE_PERDIDA\", axis=1)\n",
        "print(df_limpiov1.isnull().sum()) #muestra la cantidad de valores nulos por columna"
      ],
      "metadata": {
        "colab": {
          "base_uri": "https://localhost:8080/"
        },
        "id": "in3IXUARJJvx",
        "outputId": "ac1a603b-f87f-4fc2-d765-501d7bd0f52c"
      },
      "execution_count": null,
      "outputs": [
        {
          "output_type": "stream",
          "name": "stdout",
          "text": [
            "DEPARTAMENTO          0\n",
            "PROVINCIA             0\n",
            "DISTRITO              0\n",
            "UBIGEO                0\n",
            "PERIODO_AGRICOLA      0\n",
            "CULTIVO               0\n",
            "SUPERFICIE_VERDE     14\n",
            "SIEMBRA             894\n",
            "COSECHA             311\n",
            "RENDIMIENTO         314\n",
            "PRODUCCION          171\n",
            "PRECIO_CHACRA       171\n",
            "VALOR_PRODUCCION      0\n",
            "FECHA_CORTE           0\n",
            "dtype: int64\n"
          ]
        }
      ]
    },
    {
      "cell_type": "code",
      "source": [
        "#Eliminando valores nulos\n",
        "df_limpiov2 = df_limpiov1.dropna()\n",
        "print(df_limpiov2.isnull().sum())#deberia mostrar 0 nulos"
      ],
      "metadata": {
        "colab": {
          "base_uri": "https://localhost:8080/"
        },
        "id": "JpHB4QVcu4Z3",
        "outputId": "0da8299d-f69c-466c-daf6-7fd01a8f5f3f"
      },
      "execution_count": null,
      "outputs": [
        {
          "output_type": "stream",
          "name": "stdout",
          "text": [
            "DEPARTAMENTO        0\n",
            "PROVINCIA           0\n",
            "DISTRITO            0\n",
            "UBIGEO              0\n",
            "PERIODO_AGRICOLA    0\n",
            "CULTIVO             0\n",
            "SUPERFICIE_VERDE    0\n",
            "SIEMBRA             0\n",
            "COSECHA             0\n",
            "RENDIMIENTO         0\n",
            "PRODUCCION          0\n",
            "PRECIO_CHACRA       0\n",
            "VALOR_PRODUCCION    0\n",
            "FECHA_CORTE         0\n",
            "dtype: int64\n"
          ]
        }
      ]
    },
    {
      "cell_type": "code",
      "source": [
        "#información del dataset df limio version 2\n",
        "print(df_limpiov2.info())"
      ],
      "metadata": {
        "colab": {
          "base_uri": "https://localhost:8080/"
        },
        "id": "8XoRJCCovxiy",
        "outputId": "8aed4e9a-0e18-4ae6-b9f6-75afcad5638f"
      },
      "execution_count": null,
      "outputs": [
        {
          "output_type": "stream",
          "name": "stdout",
          "text": [
            "<class 'pandas.core.frame.DataFrame'>\n",
            "Index: 3901 entries, 0 to 4868\n",
            "Data columns (total 14 columns):\n",
            " #   Column            Non-Null Count  Dtype  \n",
            "---  ------            --------------  -----  \n",
            " 0   DEPARTAMENTO      3901 non-null   object \n",
            " 1   PROVINCIA         3901 non-null   object \n",
            " 2   DISTRITO          3901 non-null   object \n",
            " 3   UBIGEO            3901 non-null   int64  \n",
            " 4   PERIODO_AGRICOLA  3901 non-null   int64  \n",
            " 5   CULTIVO           3901 non-null   object \n",
            " 6   SUPERFICIE_VERDE  3901 non-null   float64\n",
            " 7   SIEMBRA           3901 non-null   float64\n",
            " 8   COSECHA           3901 non-null   float64\n",
            " 9   RENDIMIENTO       3901 non-null   float64\n",
            " 10  PRODUCCION        3901 non-null   float64\n",
            " 11  PRECIO_CHACRA     3901 non-null   float64\n",
            " 12  VALOR_PRODUCCION  3901 non-null   float64\n",
            " 13  FECHA_CORTE       3901 non-null   int64  \n",
            "dtypes: float64(7), int64(3), object(4)\n",
            "memory usage: 457.1+ KB\n",
            "None\n"
          ]
        }
      ]
    },
    {
      "cell_type": "code",
      "source": [
        "print(df_limpiov2)"
      ],
      "metadata": {
        "colab": {
          "base_uri": "https://localhost:8080/"
        },
        "id": "8gu2lmbswDol",
        "outputId": "69ef6146-8060-4dd1-c4ad-76a434d8ee82"
      },
      "execution_count": null,
      "outputs": [
        {
          "output_type": "stream",
          "name": "stdout",
          "text": [
            "     DEPARTAMENTO PROVINCIA   DISTRITO  UBIGEO  PERIODO_AGRICOLA  \\\n",
            "0           CUSCO      ANTA  ANCAHUASI   80302              2020   \n",
            "1           CUSCO      ANTA  ANCAHUASI   80302              2020   \n",
            "2           CUSCO      ANTA  ANCAHUASI   80302              2020   \n",
            "3           CUSCO      ANTA  ANCAHUASI   80302              2020   \n",
            "4           CUSCO      ANTA  ANCAHUASI   80302              2020   \n",
            "...           ...       ...        ...     ...               ...   \n",
            "4861        CUSCO  URUBAMBA      YUCAY   81307              2018   \n",
            "4864        CUSCO  URUBAMBA      YUCAY   81307              2018   \n",
            "4866        CUSCO  URUBAMBA      YUCAY   81307              2018   \n",
            "4867        CUSCO  URUBAMBA      YUCAY   81307              2018   \n",
            "4868        CUSCO  URUBAMBA      YUCAY   81307              2018   \n",
            "\n",
            "                                CULTIVO  SUPERFICIE_VERDE  SIEMBRA  COSECHA  \\\n",
            "0                               ALFALFA        190.470588    147.0    147.0   \n",
            "1                     ARVEJA GRANO SECO         20.700000     23.0     23.0   \n",
            "2                    ARVEJA GRANO VERDE         29.636364     40.0     31.0   \n",
            "3                           AVENA GRANO         85.222222     98.0     98.0   \n",
            "4                     CEBADA  FORRAJERA          8.117647     35.0     32.0   \n",
            "...                                 ...               ...      ...      ...   \n",
            "4861                        MAIZ CHOCLO         50.909091     55.0     55.0   \n",
            "4864  PAPA (agrupa mejoradas y nativas)         28.416667     43.0     43.0   \n",
            "4866                             QUINUA         10.583333     12.0     12.0   \n",
            "4867                          ZANAHORIA          7.823529     35.0     32.0   \n",
            "4868                            ZAPALLO         14.615385     25.0     25.0   \n",
            "\n",
            "      RENDIMIENTO  PRODUCCION  PRECIO_CHACRA  VALOR_PRODUCCION  FECHA_CORTE  \n",
            "0       81972.789     12050.0          0.190          2289.500     20230810  \n",
            "1        2000.000        46.0          2.500           115.000     20230810  \n",
            "2        6000.000       186.0          1.790           332.940     20230810  \n",
            "3        2000.000       196.0          1.745           342.020     20230810  \n",
            "4       19875.000       636.0          0.182           115.752     20230810  \n",
            "...           ...         ...            ...               ...          ...  \n",
            "4861    20000.000      1100.0          0.673           740.300     20230810  \n",
            "4864    15000.000       645.0          0.700           451.500     20230810  \n",
            "4866     1500.000        18.0          3.000            54.000     20230810  \n",
            "4867    15000.000       480.0          1.216           583.680     20230810  \n",
            "4868    20000.000       500.0          1.000           500.000     20230810  \n",
            "\n",
            "[3901 rows x 14 columns]\n"
          ]
        }
      ]
    },
    {
      "cell_type": "markdown",
      "source": [
        "**NORMALIZACIÓN**"
      ],
      "metadata": {
        "id": "a5q7O4OzzPqu"
      }
    },
    {
      "cell_type": "code",
      "source": [
        "# Ver el tipo de dato de cada columna\n",
        "print(df_limpiov2.dtypes)"
      ],
      "metadata": {
        "colab": {
          "base_uri": "https://localhost:8080/"
        },
        "id": "yhhRnDUiy_yf",
        "outputId": "08a73660-d4e4-4822-bf88-33321f6195a5"
      },
      "execution_count": null,
      "outputs": [
        {
          "output_type": "stream",
          "name": "stdout",
          "text": [
            "DEPARTAMENTO         object\n",
            "PROVINCIA            object\n",
            "DISTRITO             object\n",
            "UBIGEO                int64\n",
            "PERIODO_AGRICOLA      int64\n",
            "CULTIVO              object\n",
            "SUPERFICIE_VERDE    float64\n",
            "SIEMBRA             float64\n",
            "COSECHA             float64\n",
            "RENDIMIENTO         float64\n",
            "PRODUCCION          float64\n",
            "PRECIO_CHACRA       float64\n",
            "VALOR_PRODUCCION    float64\n",
            "FECHA_CORTE           int64\n",
            "dtype: object\n"
          ]
        }
      ]
    },
    {
      "cell_type": "code",
      "source": [
        "#Poner formato de fecha\n",
        "# Transformar la columna de fecha a formato de fecha\n",
        "df_limpiov2['FECHA_CORTE'] = pd.to_datetime(df_limpiov2['FECHA_CORTE'].astype(str), format=\"%Y%m%d\")\n",
        "print(df_limpiov2)"
      ],
      "metadata": {
        "colab": {
          "base_uri": "https://localhost:8080/"
        },
        "id": "43BAtXMM0gld",
        "outputId": "3a091493-a72d-4706-e339-9d156c2ab5cf"
      },
      "execution_count": null,
      "outputs": [
        {
          "output_type": "stream",
          "name": "stdout",
          "text": [
            "     DEPARTAMENTO PROVINCIA   DISTRITO  UBIGEO  PERIODO_AGRICOLA  \\\n",
            "0           CUSCO      ANTA  ANCAHUASI   80302              2020   \n",
            "1           CUSCO      ANTA  ANCAHUASI   80302              2020   \n",
            "2           CUSCO      ANTA  ANCAHUASI   80302              2020   \n",
            "3           CUSCO      ANTA  ANCAHUASI   80302              2020   \n",
            "4           CUSCO      ANTA  ANCAHUASI   80302              2020   \n",
            "...           ...       ...        ...     ...               ...   \n",
            "4861        CUSCO  URUBAMBA      YUCAY   81307              2018   \n",
            "4864        CUSCO  URUBAMBA      YUCAY   81307              2018   \n",
            "4866        CUSCO  URUBAMBA      YUCAY   81307              2018   \n",
            "4867        CUSCO  URUBAMBA      YUCAY   81307              2018   \n",
            "4868        CUSCO  URUBAMBA      YUCAY   81307              2018   \n",
            "\n",
            "                                CULTIVO  SUPERFICIE_VERDE  SIEMBRA  COSECHA  \\\n",
            "0                               ALFALFA        190.470588    147.0    147.0   \n",
            "1                     ARVEJA GRANO SECO         20.700000     23.0     23.0   \n",
            "2                    ARVEJA GRANO VERDE         29.636364     40.0     31.0   \n",
            "3                           AVENA GRANO         85.222222     98.0     98.0   \n",
            "4                     CEBADA  FORRAJERA          8.117647     35.0     32.0   \n",
            "...                                 ...               ...      ...      ...   \n",
            "4861                        MAIZ CHOCLO         50.909091     55.0     55.0   \n",
            "4864  PAPA (agrupa mejoradas y nativas)         28.416667     43.0     43.0   \n",
            "4866                             QUINUA         10.583333     12.0     12.0   \n",
            "4867                          ZANAHORIA          7.823529     35.0     32.0   \n",
            "4868                            ZAPALLO         14.615385     25.0     25.0   \n",
            "\n",
            "      RENDIMIENTO  PRODUCCION  PRECIO_CHACRA  VALOR_PRODUCCION FECHA_CORTE  \n",
            "0       81972.789     12050.0          0.190          2289.500  2023-08-10  \n",
            "1        2000.000        46.0          2.500           115.000  2023-08-10  \n",
            "2        6000.000       186.0          1.790           332.940  2023-08-10  \n",
            "3        2000.000       196.0          1.745           342.020  2023-08-10  \n",
            "4       19875.000       636.0          0.182           115.752  2023-08-10  \n",
            "...           ...         ...            ...               ...         ...  \n",
            "4861    20000.000      1100.0          0.673           740.300  2023-08-10  \n",
            "4864    15000.000       645.0          0.700           451.500  2023-08-10  \n",
            "4866     1500.000        18.0          3.000            54.000  2023-08-10  \n",
            "4867    15000.000       480.0          1.216           583.680  2023-08-10  \n",
            "4868    20000.000       500.0          1.000           500.000  2023-08-10  \n",
            "\n",
            "[3901 rows x 14 columns]\n"
          ]
        },
        {
          "output_type": "stream",
          "name": "stderr",
          "text": [
            "<ipython-input-33-2f952edd6786>:3: SettingWithCopyWarning: \n",
            "A value is trying to be set on a copy of a slice from a DataFrame.\n",
            "Try using .loc[row_indexer,col_indexer] = value instead\n",
            "\n",
            "See the caveats in the documentation: https://pandas.pydata.org/pandas-docs/stable/user_guide/indexing.html#returning-a-view-versus-a-copy\n",
            "  df_limpiov2['FECHA_CORTE'] = pd.to_datetime(df_limpiov2['FECHA_CORTE'].astype(str), format=\"%Y%m%d\")\n"
          ]
        }
      ]
    },
    {
      "cell_type": "code",
      "source": [
        "#EXPORTANDO ARCHIVO LIMPIO\n",
        "df_limpiov2.to_csv(\"produccion_clean.csv\", index=False, encoding=\"utf-8\")"
      ],
      "metadata": {
        "id": "islwe1_03yAi"
      },
      "execution_count": null,
      "outputs": []
    },
    {
      "cell_type": "code",
      "source": [],
      "metadata": {
        "id": "LF5uqjUn4A4w"
      },
      "execution_count": null,
      "outputs": []
    }
  ]
}